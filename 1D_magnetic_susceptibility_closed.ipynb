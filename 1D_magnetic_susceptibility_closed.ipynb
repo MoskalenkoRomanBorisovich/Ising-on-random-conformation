{
 "cells": [
  {
   "cell_type": "code",
   "execution_count": 4,
   "id": "dd7be761",
   "metadata": {},
   "outputs": [],
   "source": [
    "from sympy import *\n",
    "from IPython.display import display"
   ]
  },
  {
   "cell_type": "code",
   "execution_count": 13,
   "id": "fa6bbd00",
   "metadata": {},
   "outputs": [],
   "source": [
    "b, Z, J, N = symbols('beta Z J N')"
   ]
  },
  {
   "cell_type": "code",
   "execution_count": 20,
   "id": "9ebcc86b",
   "metadata": {},
   "outputs": [
    {
     "data": {
      "text/latex": [
       "$\\displaystyle \\frac{J \\beta^{2}}{2 N} - \\frac{J}{2 N}$"
      ],
      "text/plain": [
       "J*beta**2/(2*N) - J/(2*N)"
      ]
     },
     "execution_count": 20,
     "metadata": {},
     "output_type": "execute_result"
    }
   ],
   "source": [
    "integrate(J*b/N, (b, 1, b))"
   ]
  }
 ],
 "metadata": {
  "kernelspec": {
   "display_name": "Python 3 (ipykernel)",
   "language": "python",
   "name": "python3"
  },
  "language_info": {
   "codemirror_mode": {
    "name": "ipython",
    "version": 3
   },
   "file_extension": ".py",
   "mimetype": "text/x-python",
   "name": "python",
   "nbconvert_exporter": "python",
   "pygments_lexer": "ipython3",
   "version": "3.8.13"
  }
 },
 "nbformat": 4,
 "nbformat_minor": 5
}
