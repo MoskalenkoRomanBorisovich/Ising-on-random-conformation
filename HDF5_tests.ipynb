{
 "cells": [
  {
   "cell_type": "code",
   "execution_count": 43,
   "metadata": {},
   "outputs": [],
   "source": [
    "import h5py\n",
    "import numpy as np\n",
    "from mc_lib.observable import RealObservable\n",
    "import utils"
   ]
  },
  {
   "cell_type": "code",
   "execution_count": 164,
   "metadata": {},
   "outputs": [],
   "source": [
    "def save_RO_array_in_group(group, arr):\n",
    "    Z_b = group.create_dataset('Z_b', shape=len(arr))\n",
    "    for i, ro in enumerate(arr):\n",
    "        blocks, z = ro.__getstate__()\n",
    "        group.create_dataset(f'RO_blocks_{i}', data=blocks)\n",
    "        Z_b[i] = z\n",
    "\n",
    "        \n",
    "def load_RO_array_from_group(group):\n",
    "    n = len(group.keys())-1\n",
    "    arr = np.empty(n, dtype=RealObservable)\n",
    "    for i in range(n):\n",
    "        a = RealObservable()\n",
    "        a.__setstate__((group[f'RO_blocks_{i}'][()], group['Z_b'][i]))\n",
    "        arr[i] = a\n",
    "    \n",
    "    return arr\n",
    "        \n",
    "def save_conf_hdf5(conf, fname):\n",
    "    with h5py.File(fname, \"w\") as f:\n",
    "        f.create_dataset('structure', data=conf.struct)\n",
    "        f.create_dataset('betas', data=conf.betas)\n",
    "        \n",
    "        mag2 = f.create_group('mag2')\n",
    "        save_RO_array_in_group(mag2, conf.mag2)\n",
    "        \n",
    "        mag4 = f.create_group('mag4')\n",
    "        save_RO_array_in_group(mag4, conf.mag4)\n",
    "        \n",
    "        ene = f.create_group('ene')\n",
    "        save_RO_array_in_group(ene, conf.ene)"
   ]
  },
  {
   "cell_type": "code",
   "execution_count": 149,
   "metadata": {},
   "outputs": [],
   "source": [
    "c = utils.Conformation()"
   ]
  },
  {
   "cell_type": "code",
   "execution_count": 150,
   "metadata": {},
   "outputs": [],
   "source": [
    "c.load_data('Conformations/L1000_beta0.1_1_10(10000)/conf_data_0.npz')\n",
    "c.load_struct('Conformations/L1000_beta0.1_1_10(10000)/struct_conf_0.dat')"
   ]
  },
  {
   "cell_type": "code",
   "execution_count": 153,
   "metadata": {},
   "outputs": [],
   "source": [
    "save_conf_hdf5(c, 'Conformations/Tests/conf.hdf5')"
   ]
  },
  {
   "cell_type": "code",
   "execution_count": 174,
   "metadata": {},
   "outputs": [],
   "source": [
    "f = h5py.File('Conformations/Tests/conf.hdf5', \"r\")"
   ]
  },
  {
   "cell_type": "code",
   "execution_count": 175,
   "metadata": {},
   "outputs": [
    {
     "data": {
      "text/plain": [
       "11"
      ]
     },
     "execution_count": 175,
     "metadata": {},
     "output_type": "execute_result"
    }
   ],
   "source": [
    "m = f['mag2']\n",
    "len(m.keys())"
   ]
  },
  {
   "cell_type": "code",
   "execution_count": 177,
   "metadata": {},
   "outputs": [
    {
     "data": {
      "text/plain": [
       "0.22741689890898104"
      ]
     },
     "execution_count": 177,
     "metadata": {},
     "output_type": "execute_result"
    }
   ],
   "source": [
    "mag2 = load_RO_array_from_group(m)\n",
    "mag2[-1].mean"
   ]
  },
  {
   "cell_type": "code",
   "execution_count": 134,
   "metadata": {},
   "outputs": [
    {
     "data": {
      "text/plain": [
       "array([[ 0,  0],\n",
       "       [ 0,  1],\n",
       "       [-1,  1],\n",
       "       ...,\n",
       "       [ 8, 80],\n",
       "       [ 7, 80],\n",
       "       [ 7, 81]])"
      ]
     },
     "execution_count": 134,
     "metadata": {},
     "output_type": "execute_result"
    }
   ],
   "source": [
    "f.get('structure')[()]"
   ]
  },
  {
   "cell_type": "code",
   "execution_count": 135,
   "metadata": {},
   "outputs": [],
   "source": [
    "m = f.get('mag2')"
   ]
  },
  {
   "cell_type": "code",
   "execution_count": 136,
   "metadata": {},
   "outputs": [
    {
     "data": {
      "text/plain": [
       "<KeysViewHDF5 ['RO_blocks_0', 'RO_blocks_1', 'RO_blocks_2', 'RO_blocks_3', 'RO_blocks_4', 'RO_blocks_5', 'RO_blocks_6', 'RO_blocks_7', 'RO_blocks_8', 'RO_blocks_9', 'Z_b']>"
      ]
     },
     "execution_count": 136,
     "metadata": {},
     "output_type": "execute_result"
    }
   ],
   "source": [
    "m.keys()"
   ]
  },
  {
   "cell_type": "code",
   "execution_count": 137,
   "metadata": {},
   "outputs": [
    {
     "data": {
      "text/plain": [
       "array([512., 512., 512., 512., 512., 512., 512., 512., 512., 512.],\n",
       "      dtype=float32)"
      ]
     },
     "execution_count": 137,
     "metadata": {},
     "output_type": "execute_result"
    }
   ],
   "source": [
    "m.get('Z_b')[()]"
   ]
  },
  {
   "cell_type": "code",
   "execution_count": 138,
   "metadata": {},
   "outputs": [
    {
     "name": "stdout",
     "output_type": "stream",
     "text": [
      "0.0\n"
     ]
    }
   ],
   "source": [
    "b = RealObservable()\n",
    "print(b.mean)\n",
    "b.__setstate__((m.get('RO_blocks_9')[()], m.get('Z_b')[9]))"
   ]
  },
  {
   "cell_type": "code",
   "execution_count": 139,
   "metadata": {},
   "outputs": [
    {
     "data": {
      "text/plain": [
       "0.22741689890898104"
      ]
     },
     "execution_count": 139,
     "metadata": {},
     "output_type": "execute_result"
    }
   ],
   "source": [
    "b.mean"
   ]
  },
  {
   "cell_type": "code",
   "execution_count": 140,
   "metadata": {},
   "outputs": [
    {
     "data": {
      "text/plain": [
       "0.22741689890898104"
      ]
     },
     "execution_count": 140,
     "metadata": {},
     "output_type": "execute_result"
    }
   ],
   "source": [
    "c.mag2[-1].mean"
   ]
  },
  {
   "cell_type": "code",
   "execution_count": 141,
   "metadata": {},
   "outputs": [
    {
     "data": {
      "text/plain": [
       "array([0.1, 0.2, 0.3, 0.4, 0.5, 0.6, 0.7, 0.8, 0.9, 1. ])"
      ]
     },
     "execution_count": 141,
     "metadata": {},
     "output_type": "execute_result"
    }
   ],
   "source": [
    "c.betas"
   ]
  },
  {
   "cell_type": "code",
   "execution_count": 142,
   "metadata": {},
   "outputs": [
    {
     "data": {
      "text/plain": [
       "array([0.1, 0.2, 0.3, 0.4, 0.5, 0.6, 0.7, 0.8, 0.9, 1. ])"
      ]
     },
     "execution_count": 142,
     "metadata": {},
     "output_type": "execute_result"
    }
   ],
   "source": [
    "f['betas'][()]"
   ]
  },
  {
   "cell_type": "code",
   "execution_count": 178,
   "metadata": {},
   "outputs": [],
   "source": [
    "f.close()"
   ]
  }
 ],
 "metadata": {
  "kernelspec": {
   "display_name": "Python 3",
   "language": "python",
   "name": "python3"
  },
  "language_info": {
   "codemirror_mode": {
    "name": "ipython",
    "version": 3
   },
   "file_extension": ".py",
   "mimetype": "text/x-python",
   "name": "python",
   "nbconvert_exporter": "python",
   "pygments_lexer": "ipython3",
   "version": "3.8.12"
  }
 },
 "nbformat": 4,
 "nbformat_minor": 4
}
