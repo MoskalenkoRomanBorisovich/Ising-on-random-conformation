{
 "cells": [
  {
   "cell_type": "code",
   "execution_count": 2,
   "metadata": {},
   "outputs": [],
   "source": [
    "import utils\n",
    "import numpy as np\n",
    "import ipywidgets as widgets\n",
    "from IPython.display import display\n",
    "from ipywidgets import interact, interact_manual\n",
    "import matplotlib.pyplot as plt\n",
    "\n"
   ]
  },
  {
   "cell_type": "code",
   "execution_count": 3,
   "metadata": {},
   "outputs": [],
   "source": [
    "conf_250_close = utils.load_Conformations_from_dir('Conformations/L250_beta0.4_0.6_10/')\n",
    "conf_1000_close = utils.load_Conformations_from_dir('Conformations/L1000_beta0.4_0.6_10/')\n",
    "conf_500_close = utils.load_Conformations_from_dir('Conformations/L500_beta0.4_0.6_10/')"
   ]
  },
  {
   "cell_type": "code",
   "execution_count": 4,
   "metadata": {},
   "outputs": [],
   "source": [
    "conf_250_close.sort(key=lambda x: x.R)\n",
    "conf_500_close.sort(key=lambda x: x.R)\n",
    "conf_1000_close.sort(key=lambda x: x.R)"
   ]
  },
  {
   "cell_type": "code",
   "execution_count": 5,
   "metadata": {},
   "outputs": [],
   "source": [
    "def calculate_mean_cumulant(arr, Rnorm):\n",
    "    ret = [0] * arr[0].nBetas\n",
    "    counter = 0\n",
    "    for conf in arr:\n",
    "        if utils.R_to_norm(conf.R, len(conf.struct)) > Rnorm:\n",
    "            break\n",
    "        counter += 1\n",
    "        for i in range(conf.nBetas):\n",
    "            ret[i] += conf.U[i]\n",
    "            \n",
    "    U = [x / counter for x in ret]\n",
    "    print(counter)\n",
    "    U_err = [0] * len(U)\n",
    "    for conf in arr:\n",
    "        if utils.R_to_norm(conf.R, len(conf.struct)) > Rnorm:\n",
    "            break\n",
    "        for i in range(conf.nBetas):\n",
    "            U_err[i] += (U[i] - conf.U[i])**2 / counter\n",
    "    U_err = [np.sqrt(x) for x in U_err]\n",
    "    return U, U_err"
   ]
  },
  {
   "cell_type": "code",
   "execution_count": 6,
   "metadata": {},
   "outputs": [
    {
     "data": {
      "application/vnd.jupyter.widget-view+json": {
       "model_id": "4964aa4c432f4d2187803c7f5d944b6b",
       "version_major": 2,
       "version_minor": 0
      },
      "text/plain": [
       "interactive(children=(FloatSlider(value=0.96, description='Rnorm', max=1.5, min=0.43, step=0.01), Output()), _…"
      ]
     },
     "metadata": {},
     "output_type": "display_data"
    }
   ],
   "source": [
    "@interact\n",
    "def draw_cumulant_close(Rnorm = (0.43, 1.5, 0.01)):\n",
    "    plt.figure()\n",
    "    plt.title(Rnorm)\n",
    "    betas = np.linspace(0.4, 0.6, 10)\n",
    "    U_250, U_250_err = calculate_mean_cumulant(conf_250_close, Rnorm)\n",
    "    U_500, U_500_err = calculate_mean_cumulant(conf_500_close, Rnorm)\n",
    "    U_1000, U_1000_err = calculate_mean_cumulant(conf_1000_close, Rnorm)\n",
    "    plt.errorbar(betas, U_250, yerr=U_250_err, fmt='o-')\n",
    "    plt.errorbar(betas+0.001, U_500, yerr=U_500_err, fmt='o-')\n",
    "    plt.errorbar(betas+0.002, U_1000, yerr=U_1000_err, fmt='o-')\n",
    "    plt.show()"
   ]
  },
  {
   "cell_type": "code",
   "execution_count": 7,
   "metadata": {},
   "outputs": [],
   "source": [
    "conf_250 = utils.load_Conformations_from_dir('Conformations/L250_beta0.1_1_10/')\n",
    "conf_1000 = utils.load_Conformations_from_dir('Conformations/L1000_beta0.1_1_10/')\n",
    "conf_500 = utils.load_Conformations_from_dir('Conformations/L500_beta0.1_1_10/')"
   ]
  },
  {
   "cell_type": "code",
   "execution_count": 8,
   "metadata": {},
   "outputs": [],
   "source": [
    "conf_250.sort(key=lambda x: x.R)\n",
    "conf_500.sort(key=lambda x: x.R)\n",
    "conf_1000.sort(key=lambda x: x.R)"
   ]
  },
  {
   "cell_type": "code",
   "execution_count": 9,
   "metadata": {},
   "outputs": [
    {
     "data": {
      "application/vnd.jupyter.widget-view+json": {
       "model_id": "d0041d072c874aacb5c127596d7fbd2c",
       "version_major": 2,
       "version_minor": 0
      },
      "text/plain": [
       "interactive(children=(FloatSlider(value=0.96, description='Rnorm', max=1.5, min=0.43, step=0.01), Output()), _…"
      ]
     },
     "metadata": {},
     "output_type": "display_data"
    }
   ],
   "source": [
    "@interact\n",
    "def draw_cumulant_close(Rnorm = (0.43, 1.5, 0.01)):\n",
    "    plt.figure()\n",
    "    plt.title(Rnorm)\n",
    "    betas = np.linspace(0.4, 0.6, 10)\n",
    "    U_250, U_250_err = calculate_mean_cumulant(conf_250, Rnorm)\n",
    "    U_500, U_500_err = calculate_mean_cumulant(conf_500, Rnorm)\n",
    "    U_1000, U_1000_err = calculate_mean_cumulant(conf_1000, Rnorm)\n",
    "    plt.errorbar(betas, U_250, yerr=U_250_err, fmt='o-')\n",
    "    plt.errorbar(betas, U_500, yerr=U_500_err, fmt='o-')\n",
    "    plt.errorbar(betas, U_1000, yerr=U_1000_err, fmt='o-')\n",
    "    plt.show()"
   ]
  },
  {
   "cell_type": "code",
   "execution_count": 12,
   "metadata": {},
   "outputs": [],
   "source": [
    "conf_250_2 = utils.load_Conformations_from_dir('Conformations/L250_beta0.1_1_10(1000)/')\n",
    "conf_1000_2 = utils.load_Conformations_from_dir('Conformations/L1000_beta0.1_1_10(1000)/')\n",
    "conf_500_2 = utils.load_Conformations_from_dir('Conformations/L500_beta0.1_1_10(1000)/')"
   ]
  },
  {
   "cell_type": "code",
   "execution_count": 13,
   "metadata": {},
   "outputs": [],
   "source": [
    "conf_250_2.sort(key=lambda x: x.R)\n",
    "conf_500_2.sort(key=lambda x: x.R)\n",
    "conf_1000_2.sort(key=lambda x: x.R)"
   ]
  },
  {
   "cell_type": "code",
   "execution_count": 19,
   "metadata": {},
   "outputs": [
    {
     "data": {
      "application/vnd.jupyter.widget-view+json": {
       "model_id": "cca974407b71484aa11857b073ca71b7",
       "version_major": 2,
       "version_minor": 0
      },
      "text/plain": [
       "interactive(children=(FloatSlider(value=0.96, description='Rnorm', max=1.5, min=0.43, step=0.01), Output()), _…"
      ]
     },
     "metadata": {},
     "output_type": "display_data"
    }
   ],
   "source": [
    "%matplotlib inline\n",
    "@interact\n",
    "def draw_cumulant_close(Rnorm = (0.43, 1.5, 0.01)):\n",
    "    plt.figure()\n",
    "    plt.title(Rnorm)\n",
    "    betas = np.linspace(0.4, 0.6, 10)\n",
    "    U_250, U_250_err = calculate_mean_cumulant(conf_250_2, Rnorm)\n",
    "    U_500, U_500_err = calculate_mean_cumulant(conf_500_2, Rnorm)\n",
    "    U_1000, U_1000_err = calculate_mean_cumulant(conf_1000_2, Rnorm)\n",
    "    plt.errorbar(betas, U_250, yerr=U_250_err, fmt='o-')\n",
    "    plt.errorbar(betas, U_500, yerr=U_500_err, fmt='o-')\n",
    "    plt.errorbar(betas, U_1000, yerr=U_1000_err, fmt='o-')\n",
    "    plt.show()"
   ]
  },
  {
   "cell_type": "code",
   "execution_count": null,
   "metadata": {},
   "outputs": [],
   "source": []
  },
  {
   "cell_type": "code",
   "execution_count": null,
   "metadata": {},
   "outputs": [],
   "source": []
  },
  {
   "cell_type": "code",
   "execution_count": null,
   "metadata": {},
   "outputs": [],
   "source": []
  },
  {
   "cell_type": "code",
   "execution_count": null,
   "metadata": {},
   "outputs": [],
   "source": []
  },
  {
   "cell_type": "code",
   "execution_count": null,
   "metadata": {},
   "outputs": [],
   "source": []
  },
  {
   "cell_type": "code",
   "execution_count": null,
   "metadata": {},
   "outputs": [],
   "source": []
  },
  {
   "cell_type": "code",
   "execution_count": null,
   "metadata": {},
   "outputs": [],
   "source": []
  },
  {
   "cell_type": "code",
   "execution_count": null,
   "metadata": {},
   "outputs": [],
   "source": []
  },
  {
   "cell_type": "code",
   "execution_count": null,
   "metadata": {},
   "outputs": [],
   "source": []
  }
 ],
 "metadata": {
  "kernelspec": {
   "display_name": "Python 3",
   "language": "python",
   "name": "python3"
  },
  "language_info": {
   "codemirror_mode": {
    "name": "ipython",
    "version": 3
   },
   "file_extension": ".py",
   "mimetype": "text/x-python",
   "name": "python",
   "nbconvert_exporter": "python",
   "pygments_lexer": "ipython3",
   "version": "3.8.5"
  }
 },
 "nbformat": 4,
 "nbformat_minor": 4
}
