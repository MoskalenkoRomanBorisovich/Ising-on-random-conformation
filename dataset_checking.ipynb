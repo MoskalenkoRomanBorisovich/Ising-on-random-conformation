{
 "cells": [
  {
   "cell_type": "code",
   "execution_count": 1,
   "id": "a55f22ac",
   "metadata": {},
   "outputs": [],
   "source": [
    "import numpy as np\n",
    "from utils import *"
   ]
  },
  {
   "cell_type": "code",
   "execution_count": 2,
   "id": "c7bab96a",
   "metadata": {},
   "outputs": [],
   "source": [
    "dir_name = 'Conformations/L250_beta0.1_1_10(10000)/'\n",
    "conformations = load_Conformations_from_dir(dir_name)"
   ]
  },
  {
   "cell_type": "code",
   "execution_count": 3,
   "id": "f1ce9534",
   "metadata": {},
   "outputs": [],
   "source": [
    "betas = np.linspace(0.1, 1, 10)"
   ]
  },
  {
   "cell_type": "code",
   "execution_count": 5,
   "id": "f0225458",
   "metadata": {},
   "outputs": [
    {
     "name": "stdout",
     "output_type": "stream",
     "text": [
      "[]\n",
      "[]\n",
      "0.0011985833005891781\n"
     ]
    }
   ],
   "source": [
    "res = check_dataset(conformations,\n",
    "                    betas,\n",
    "                    1e-2,\n",
    "                    length=251)\n",
    "\n",
    "print(res['wrong_betas'])\n",
    "print(res['wrong_mag'])\n",
    "print(res['max_2_er'])"
   ]
  },
  {
   "cell_type": "code",
   "execution_count": 7,
   "id": "c0cf8f19",
   "metadata": {},
   "outputs": [],
   "source": [
    "dir_name = 'Conformations/L500_beta0.1_1_10(10000)/'\n",
    "conformations = load_Conformations_from_dir(dir_name)"
   ]
  },
  {
   "cell_type": "code",
   "execution_count": 8,
   "id": "b80a795e",
   "metadata": {},
   "outputs": [],
   "source": [
    "betas = np.linspace(0.1, 1, 10)"
   ]
  },
  {
   "cell_type": "code",
   "execution_count": 9,
   "id": "af13d7d0",
   "metadata": {},
   "outputs": [
    {
     "name": "stdout",
     "output_type": "stream",
     "text": [
      "[]\n",
      "[]\n",
      "0.0011420542438976735\n"
     ]
    }
   ],
   "source": [
    "res = check_dataset(conformations,\n",
    "                    betas,\n",
    "                    1e-2)\n",
    "\n",
    "print(res['wrong_betas'])\n",
    "print(res['wrong_mag'])\n",
    "print(res['max_2_er'])"
   ]
  },
  {
   "cell_type": "code",
   "execution_count": 10,
   "id": "0e3c8ea4",
   "metadata": {},
   "outputs": [],
   "source": [
    "dir_name = 'Conformations/L1000_beta0.1_1_10(10000)/'\n",
    "conformations = load_Conformations_from_dir(dir_name)"
   ]
  },
  {
   "cell_type": "code",
   "execution_count": 11,
   "id": "b02c427f",
   "metadata": {},
   "outputs": [],
   "source": [
    "betas = np.linspace(0.1, 1, 10)"
   ]
  },
  {
   "cell_type": "code",
   "execution_count": 12,
   "id": "c7a9cbba",
   "metadata": {},
   "outputs": [
    {
     "name": "stdout",
     "output_type": "stream",
     "text": [
      "[]\n",
      "[]\n",
      "0.0010914951798847996\n"
     ]
    }
   ],
   "source": [
    "res = check_dataset(conformations,\n",
    "                    betas,\n",
    "                    1e-2)\n",
    "\n",
    "print(res['wrong_betas'])\n",
    "print(res['wrong_mag'])\n",
    "print(res['max_2_er'])"
   ]
  },
  {
   "cell_type": "code",
   "execution_count": 13,
   "id": "f18017a9",
   "metadata": {},
   "outputs": [
    {
     "name": "stdout",
     "output_type": "stream",
     "text": [
      "[]\n",
      "[]\n",
      "0.001085479851180632\n"
     ]
    }
   ],
   "source": [
    "dir_name = './Conformations/L2000_beta0.1_1_10(10000)/'\n",
    "conformations = load_Conformations_from_dir(dir_name)\n",
    "betas = np.linspace(0.1, 1, 10)\n",
    "\n",
    "res = check_dataset(conformations,\n",
    "                    betas,\n",
    "                    1e-2,\n",
    "                    length=2001)\n",
    "\n",
    "print(res['wrong_betas'])\n",
    "print(res['wrong_mag'])\n",
    "print(res['max_2_er'])"
   ]
  },
  {
   "cell_type": "code",
   "execution_count": 7,
   "id": "52fdde77",
   "metadata": {},
   "outputs": [
    {
     "name": "stdout",
     "output_type": "stream",
     "text": [
      "[]\n",
      "[]\n",
      "0.0009520398228821309\n"
     ]
    }
   ],
   "source": [
    "dir_name = './Conformations/L2000_beta0.1_1_10(10000)_2'\n",
    "conformations = load_Conformations_from_dir(dir_name)\n",
    "betas = np.linspace(0.1, 1, 10)\n",
    "\n",
    "res = check_dataset(conformations,\n",
    "                    betas,\n",
    "                    1e-2,\n",
    "                    length=2001)\n",
    "\n",
    "print(res['wrong_betas'])\n",
    "print(res['wrong_mag'])\n",
    "print(res['max_2_er'])"
   ]
  },
  {
   "cell_type": "code",
   "execution_count": 15,
   "id": "7a5f3f02",
   "metadata": {},
   "outputs": [
    {
     "name": "stdout",
     "output_type": "stream",
     "text": [
      "0.0012382045689413\n"
     ]
    }
   ],
   "source": [
    "print(res['max_abs_er'])"
   ]
  }
 ],
 "metadata": {
  "kernelspec": {
   "display_name": "Python 3.8.13 ('ising')",
   "language": "python",
   "name": "python3"
  },
  "language_info": {
   "codemirror_mode": {
    "name": "ipython",
    "version": 3
   },
   "file_extension": ".py",
   "mimetype": "text/x-python",
   "name": "python",
   "nbconvert_exporter": "python",
   "pygments_lexer": "ipython3",
   "version": "3.8.13"
  },
  "vscode": {
   "interpreter": {
    "hash": "c91ddf0188feaffac81e0745a01b20961dc6b5b642859deab20fb35b0e5727f2"
   }
  }
 },
 "nbformat": 4,
 "nbformat_minor": 5
}
