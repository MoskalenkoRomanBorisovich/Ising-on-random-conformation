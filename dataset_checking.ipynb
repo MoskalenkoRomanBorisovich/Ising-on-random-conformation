{
 "cells": [
  {
   "cell_type": "code",
   "execution_count": 3,
   "id": "a55f22ac",
   "metadata": {},
   "outputs": [],
   "source": [
    "import numpy as np\n",
    "import os\n",
    "from utils import *"
   ]
  },
  {
   "cell_type": "code",
   "execution_count": 2,
   "id": "c7bab96a",
   "metadata": {},
   "outputs": [],
   "source": [
    "dir_name = 'Conformations/L250_beta0.1_1_10(10000)/'\n",
    "conformations = load_Conformations_from_dir(dir_name)"
   ]
  },
  {
   "cell_type": "code",
   "execution_count": 3,
   "id": "f1ce9534",
   "metadata": {},
   "outputs": [],
   "source": [
    "betas = np.linspace(0.1, 1, 10)"
   ]
  },
  {
   "cell_type": "code",
   "execution_count": 5,
   "id": "f0225458",
   "metadata": {},
   "outputs": [
    {
     "name": "stdout",
     "output_type": "stream",
     "text": [
      "[]\n",
      "[]\n",
      "0.0011985833005891781\n"
     ]
    }
   ],
   "source": [
    "res = check_dataset(conformations,\n",
    "                    betas,\n",
    "                    1e-2,\n",
    "                    length=251)\n",
    "\n",
    "print(res['wrong_betas'])\n",
    "print(res['wrong_mag'])\n",
    "print(res['max_2_er'])"
   ]
  },
  {
   "cell_type": "code",
   "execution_count": 7,
   "id": "c0cf8f19",
   "metadata": {},
   "outputs": [],
   "source": [
    "dir_name = 'Conformations/L500_beta0.1_1_10(10000)/'\n",
    "conformations = load_Conformations_from_dir(dir_name)"
   ]
  },
  {
   "cell_type": "code",
   "execution_count": 8,
   "id": "b80a795e",
   "metadata": {},
   "outputs": [],
   "source": [
    "betas = np.linspace(0.1, 1, 10)"
   ]
  },
  {
   "cell_type": "code",
   "execution_count": 9,
   "id": "af13d7d0",
   "metadata": {},
   "outputs": [
    {
     "name": "stdout",
     "output_type": "stream",
     "text": [
      "[]\n",
      "[]\n",
      "0.0011420542438976735\n"
     ]
    }
   ],
   "source": [
    "res = check_dataset(conformations,\n",
    "                    betas,\n",
    "                    1e-2)\n",
    "\n",
    "print(res['wrong_betas'])\n",
    "print(res['wrong_mag'])\n",
    "print(res['max_2_er'])"
   ]
  },
  {
   "cell_type": "code",
   "execution_count": 10,
   "id": "0e3c8ea4",
   "metadata": {},
   "outputs": [],
   "source": [
    "dir_name = 'Conformations/L1000_beta0.1_1_10(10000)/'\n",
    "conformations = load_Conformations_from_dir(dir_name)"
   ]
  },
  {
   "cell_type": "code",
   "execution_count": 11,
   "id": "b02c427f",
   "metadata": {},
   "outputs": [],
   "source": [
    "betas = np.linspace(0.1, 1, 10)"
   ]
  },
  {
   "cell_type": "code",
   "execution_count": 12,
   "id": "c7a9cbba",
   "metadata": {},
   "outputs": [
    {
     "name": "stdout",
     "output_type": "stream",
     "text": [
      "[]\n",
      "[]\n",
      "0.0010914951798847996\n"
     ]
    }
   ],
   "source": [
    "res = check_dataset(conformations,\n",
    "                    betas,\n",
    "                    1e-2)\n",
    "\n",
    "print(res['wrong_betas'])\n",
    "print(res['wrong_mag'])\n",
    "print(res['max_2_er'])"
   ]
  },
  {
   "cell_type": "code",
   "execution_count": 13,
   "id": "f18017a9",
   "metadata": {},
   "outputs": [
    {
     "name": "stdout",
     "output_type": "stream",
     "text": [
      "[]\n",
      "[]\n",
      "0.001085479851180632\n"
     ]
    }
   ],
   "source": [
    "dir_name = './Conformations/L2000_beta0.1_1_10(10000)/'\n",
    "conformations = load_Conformations_from_dir(dir_name)\n",
    "betas = np.linspace(0.1, 1, 10)\n",
    "\n",
    "res = check_dataset(conformations,\n",
    "                    betas,\n",
    "                    1e-2,\n",
    "                    length=2001)\n",
    "\n",
    "print(res['wrong_betas'])\n",
    "print(res['wrong_mag'])\n",
    "print(res['max_2_er'])"
   ]
  },
  {
   "cell_type": "code",
   "execution_count": 7,
   "id": "52fdde77",
   "metadata": {},
   "outputs": [
    {
     "name": "stdout",
     "output_type": "stream",
     "text": [
      "[]\n",
      "[]\n",
      "0.0009520398228821309\n"
     ]
    }
   ],
   "source": [
    "dir_name = './Conformations/L2000_beta0.1_1_10(10000)_2'\n",
    "conformations = load_Conformations_from_dir(dir_name)\n",
    "\n",
    "res = check_dataset(conformations,\n",
    "                    betas,\n",
    "                    1e-2,\n",
    "                    length=2001)\n",
    "\n",
    "print(res['wrong_betas'])\n",
    "print(res['wrong_mag'])\n",
    "print(res['max_2_er'])"
   ]
  },
  {
   "cell_type": "code",
   "execution_count": 15,
   "id": "7a5f3f02",
   "metadata": {},
   "outputs": [
    {
     "name": "stdout",
     "output_type": "stream",
     "text": [
      "0.0012382045689413\n"
     ]
    }
   ],
   "source": [
    "print(res['max_abs_er'])"
   ]
  },
  {
   "cell_type": "code",
   "execution_count": 4,
   "id": "3c29007a",
   "metadata": {},
   "outputs": [],
   "source": [
    "def check_dataset_conf_length(L : int, name: str):\n",
    "    for l in L:\n",
    "        str1 = f'L={l}'\n",
    "        str2 = f'L{l}'\n",
    "        pos1 = name.find(str1)\n",
    "        pos2 = name.find(str2)\n",
    "        if pos1 != -1 or pos2 != -1:\n",
    "            return l"
   ]
  },
  {
   "cell_type": "code",
   "execution_count": 32,
   "id": "690f4a30",
   "metadata": {},
   "outputs": [
    {
     "name": "stdout",
     "output_type": "stream",
     "text": [
      "500\n",
      "1000\n"
     ]
    }
   ],
   "source": [
    "print(check_dataset_conf_length([250, 500, 1000, 2000], 'L=500'))\n",
    "print(check_dataset_conf_length([250, 500, 1000, 2000], 'L1000_beta_0.1_1_10(1000)'))"
   ]
  },
  {
   "cell_type": "code",
   "execution_count": 38,
   "id": "95893889",
   "metadata": {},
   "outputs": [
    {
     "name": "stdout",
     "output_type": "stream",
     "text": [
      "U = 0.1, L = 1000 checked\n",
      "U = 0.1, L = 2000 checked\n",
      "U = 0.1, L = 500 checked\n",
      "wrong_betas: 1000\n",
      "U = 0.1, L = 250 checked\n",
      "U = 0.2, L = 500 checked\n",
      "U = 0.2, L = 2000 checked\n",
      "U = 0.2, L = 250 checked\n",
      "U = 0.2, L = 1000 checked\n",
      "U = 0.3, L = 500 checked\n",
      "U = 0.3, L = 2000 checked\n",
      "U = 0.3, L = 250 checked\n",
      "U = 0.3, L = 1000 checked\n",
      "U = 0.4, L = 500 checked\n",
      "U = 0.4, L = 2000 checked\n",
      "U = 0.4, L = 250 checked\n",
      "U = 0.4, L = 1000 checked\n",
      "U = 0.5, L = 500 checked\n",
      "U = 0.5, L = 2000 checked\n",
      "U = 0.5, L = 250 checked\n",
      "U = 0.5, L = 1000 checked\n",
      "U = 0.6, L = 500 checked\n",
      "U = 0.6, L = 2000 checked\n",
      "U = 0.6, L = 250 checked\n",
      "U = 0.6, L = 1000 checked\n",
      "U = 0.7, L = 500 checked\n",
      "U = 0.7, L = 2000 checked\n",
      "U = 0.7, L = 250 checked\n",
      "U = 0.7, L = 1000 checked\n",
      "U = 0.8, L = 500 checked\n",
      "U = 0.8, L = 2000 checked\n",
      "U = 0.8, L = 250 checked\n",
      "U = 0.8, L = 1000 checked\n",
      "U = 0.9, L = 500 checked\n",
      "U = 0.9, L = 2000 checked\n",
      "U = 0.9, L = 250 checked\n",
      "U = 0.9, L = 1000 checked\n",
      "U = 1.0, L = 500 checked\n",
      "U = 1.0, L = 250 checked\n",
      "U = 1.0, L = 2000 checked\n",
      "U = 1.0, L = 1000 checked\n"
     ]
    }
   ],
   "source": [
    "U_arr = np.round(np.linspace(0.1, 1.0, 10), 1)\n",
    "L_arr = [250, 500, 1000, 2000]\n",
    "\n",
    "betas = np.linspace(0.1, 1, 10)\n",
    "for u in U_arr:\n",
    "    u_dir_name = f'./Conformations/U={u}'\n",
    "    L_dirs = os.listdir(u_dir_name)\n",
    "    for L_name in L_dirs:\n",
    "        dir_name = u_dir_name + \"/\" + L_name\n",
    "        conformations = load_Conformations_from_dir(dir_name)\n",
    "        length = check_dataset_conf_length(L_arr, L_name) + 1\n",
    "        res = check_dataset(conformations, betas, 1e-2, length)\n",
    "        print(f'U = {u}, L = {length - 1} checked')\n",
    "        if len(res[\"wrong_betas\"]) > 0:\n",
    "            print(f'wrong_betas:', len(res[\"wrong_betas\"]))\n",
    "        if len(res[\"wrong_mag\"]) > 0:\n",
    "            print(f'wrong_mag:', len(res[\"wrong_mag\"]))"
   ]
  },
  {
   "cell_type": "code",
   "execution_count": 7,
   "id": "ab53b054",
   "metadata": {},
   "outputs": [
    {
     "name": "stdout",
     "output_type": "stream",
     "text": [
      "U = 0.2, L = 500 checked\n",
      "U = 0.2, L = 2000 checked\n",
      "U = 0.2, L = 250 checked\n",
      "U = 0.2, L = 1000 checked\n",
      "U = 0.3, L = 500 checked\n",
      "U = 0.3, L = 2000 checked\n",
      "U = 0.3, L = 250 checked\n",
      "U = 0.3, L = 1000 checked\n",
      "U = 0.4, L = 500 checked\n",
      "U = 0.4, L = 2000 checked\n",
      "U = 0.4, L = 250 checked\n",
      "U = 0.4, L = 1000 checked\n",
      "U = 0.5, L = 500 checked\n",
      "U = 0.5, L = 2000 checked\n",
      "U = 0.5, L = 250 checked\n",
      "U = 0.5, L = 1000 checked\n",
      "U = 0.6, L = 500 checked\n",
      "U = 0.6, L = 2000 checked\n",
      "U = 0.6, L = 250 checked\n",
      "U = 0.6, L = 1000 checked\n",
      "U = 0.7, L = 500 checked\n",
      "U = 0.7, L = 2000 checked\n",
      "U = 0.7, L = 250 checked\n",
      "U = 0.7, L = 1000 checked\n",
      "U = 0.8, L = 500 checked\n",
      "U = 0.8, L = 2000 checked\n",
      "U = 0.8, L = 250 checked\n",
      "U = 0.8, L = 1000 checked\n",
      "U = 0.9, L = 500 checked\n",
      "U = 0.9, L = 2000 checked\n",
      "U = 0.9, L = 250 checked\n",
      "U = 0.9, L = 1000 checked\n"
     ]
    }
   ],
   "source": [
    "U_arr = np.round(np.linspace(0.2, 0.9, 8), 1)\n",
    "L_arr = [250, 500, 1000, 2000]\n",
    "\n",
    "betas = np.linspace(0.4+(0.02), 0.6, 10)\n",
    "for u in U_arr:\n",
    "    u_dir_name = f'./Conformations/close_to_transitoin/U={u}'\n",
    "    L_dirs = os.listdir(u_dir_name)\n",
    "    for L_name in L_dirs:\n",
    "        dir_name = u_dir_name + \"/\" + L_name\n",
    "        conformations = load_Conformations_from_dir(dir_name)\n",
    "        length = check_dataset_conf_length(L_arr, L_name) + 1\n",
    "        res = check_dataset(conformations, betas, 1e-2, length)\n",
    "        print(f'U = {u}, L = {length - 1} checked')\n",
    "        if len(res[\"wrong_betas\"]) > 0:\n",
    "            print(f'wrong_betas:', len(res[\"wrong_betas\"]))\n",
    "        if len(res[\"wrong_mag\"]) > 0:\n",
    "            print(f'wrong_mag:', len(res[\"wrong_mag\"]))"
   ]
  },
  {
   "cell_type": "code",
   "execution_count": null,
   "id": "97055abe",
   "metadata": {},
   "outputs": [],
   "source": []
  }
 ],
 "metadata": {
  "kernelspec": {
   "display_name": "Python 3.8.13 ('ising')",
   "language": "python",
   "name": "python3"
  },
  "language_info": {
   "codemirror_mode": {
    "name": "ipython",
    "version": 3
   },
   "file_extension": ".py",
   "mimetype": "text/x-python",
   "name": "python",
   "nbconvert_exporter": "python",
   "pygments_lexer": "ipython3",
   "version": "3.8.13"
  },
  "vscode": {
   "interpreter": {
    "hash": "c91ddf0188feaffac81e0745a01b20961dc6b5b642859deab20fb35b0e5727f2"
   }
  }
 },
 "nbformat": 4,
 "nbformat_minor": 5
}
