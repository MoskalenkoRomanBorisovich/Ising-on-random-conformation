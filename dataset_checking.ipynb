{
 "cells": [
  {
   "cell_type": "code",
   "execution_count": 2,
   "id": "a55f22ac",
   "metadata": {},
   "outputs": [],
   "source": [
    "import numpy as np\n",
    "from utils import *"
   ]
  },
  {
   "cell_type": "code",
   "execution_count": 2,
   "id": "c7bab96a",
   "metadata": {},
   "outputs": [],
   "source": [
    "dir_name = 'Conformations/L250_beta0.1_1_10(10000)/'\n",
    "conformations = load_Conformations_from_dir(dir_name)"
   ]
  },
  {
   "cell_type": "code",
   "execution_count": 3,
   "id": "f1ce9534",
   "metadata": {},
   "outputs": [],
   "source": [
    "betas = np.linspace(0.1, 1, 10)"
   ]
  },
  {
   "cell_type": "code",
   "execution_count": 4,
   "id": "f0225458",
   "metadata": {},
   "outputs": [
    {
     "name": "stdout",
     "output_type": "stream",
     "text": [
      "[]\n",
      "[]\n"
     ]
    }
   ],
   "source": [
    "b, m = check_dataset(conformations,\n",
    "                    betas,\n",
    "                    1e-2)\n",
    "\n",
    "print(b)\n",
    "print(m)"
   ]
  },
  {
   "cell_type": "code",
   "execution_count": 5,
   "id": "c0cf8f19",
   "metadata": {},
   "outputs": [],
   "source": [
    "dir_name = 'Conformations/L500_beta0.1_1_10(10000)/'\n",
    "conformations = load_Conformations_from_dir(dir_name)"
   ]
  },
  {
   "cell_type": "code",
   "execution_count": 6,
   "id": "b80a795e",
   "metadata": {},
   "outputs": [],
   "source": [
    "betas = np.linspace(0.1, 1, 10)"
   ]
  },
  {
   "cell_type": "code",
   "execution_count": 7,
   "id": "af13d7d0",
   "metadata": {},
   "outputs": [
    {
     "name": "stdout",
     "output_type": "stream",
     "text": [
      "[]\n",
      "[]\n"
     ]
    }
   ],
   "source": [
    "b, m = check_dataset(conformations,\n",
    "                    betas,\n",
    "                    1e-2)\n",
    "\n",
    "print(b)\n",
    "print(m)"
   ]
  },
  {
   "cell_type": "code",
   "execution_count": 8,
   "id": "0e3c8ea4",
   "metadata": {},
   "outputs": [],
   "source": [
    "dir_name = 'Conformations/L1000_beta0.1_1_10(10000)/'\n",
    "conformations = load_Conformations_from_dir(dir_name)"
   ]
  },
  {
   "cell_type": "code",
   "execution_count": 9,
   "id": "b02c427f",
   "metadata": {},
   "outputs": [],
   "source": [
    "betas = np.linspace(0.1, 1, 10)"
   ]
  },
  {
   "cell_type": "code",
   "execution_count": 12,
   "id": "c7a9cbba",
   "metadata": {},
   "outputs": [
    {
     "name": "stdout",
     "output_type": "stream",
     "text": [
      "[]\n",
      "[]\n"
     ]
    }
   ],
   "source": [
    "b, m = check_dataset(conformations,\n",
    "                    betas,\n",
    "                    1e-2)\n",
    "\n",
    "print(b)\n",
    "print(m)"
   ]
  },
  {
   "cell_type": "code",
   "execution_count": null,
   "id": "f8fbae45",
   "metadata": {},
   "outputs": [],
   "source": []
  }
 ],
 "metadata": {
  "kernelspec": {
   "display_name": "Python 3.8.13 ('ising')",
   "language": "python",
   "name": "python3"
  },
  "language_info": {
   "codemirror_mode": {
    "name": "ipython",
    "version": 3
   },
   "file_extension": ".py",
   "mimetype": "text/x-python",
   "name": "python",
   "nbconvert_exporter": "python",
   "pygments_lexer": "ipython3",
   "version": "3.8.13"
  },
  "vscode": {
   "interpreter": {
    "hash": "c91ddf0188feaffac81e0745a01b20961dc6b5b642859deab20fb35b0e5727f2"
   }
  }
 },
 "nbformat": 4,
 "nbformat_minor": 5
}
